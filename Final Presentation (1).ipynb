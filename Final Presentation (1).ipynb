{
 "cells": [
  {
   "cell_type": "markdown",
   "id": "3f1c8065-d507-44f9-af38-97066d08dbea",
   "metadata": {},
   "source": [
    "Import necessary libraries for data handling, machine learning models, hyperparameter tuning, and evaluation"
   ]
  },
  {
   "cell_type": "code",
   "execution_count": 1,
   "id": "d4cd2d6a-b2b0-45b8-aaa3-6fcaaee1ee72",
   "metadata": {},
   "outputs": [],
   "source": [
    "import pandas as pd\n",
    "import joblib\n",
    "from sklearn.model_selection import train_test_split, GridSearchCV, RandomizedSearchCV\n",
    "from sklearn.preprocessing import StandardScaler, OneHotEncoder, FunctionTransformer, LabelEncoder\n",
    "from sklearn.compose import ColumnTransformer\n",
    "from sklearn.pipeline import Pipeline\n",
    "from sklearn.impute import SimpleImputer\n",
    "from sklearn.linear_model import LogisticRegression\n",
    "from sklearn.tree import DecisionTreeClassifier\n",
    "from sklearn.ensemble import RandomForestClassifier\n",
    "from sklearn.naive_bayes import GaussianNB\n",
    "from sklearn.svm import SVC\n",
    "from sklearn.neighbors import KNeighborsClassifier\n",
    "import numpy as np\n",
    "from scipy.stats import randint, uniform\n",
    "from skopt import BayesSearchCV\n",
    "from skopt.space import Real, Categorical, Integer\n",
    "from sklearn.metrics import classification_report, roc_curve, roc_auc_score\n",
    "import matplotlib.pyplot as plt\n",
    "\n",
    "\n"
   ]
  },
  {
   "cell_type": "markdown",
   "id": "de9834b4-489d-4dfc-9189-281ab8e74587",
   "metadata": {},
   "source": [
    "Load the dataset and drop rows where the target variable (Job status) is missing\n"
   ]
  },
  {
   "cell_type": "code",
   "execution_count": 2,
   "id": "11eb7647-27bc-42bb-9f4c-1dd4e67e9af5",
   "metadata": {},
   "outputs": [],
   "source": [
    "# Load data\n",
    "data = pd.read_excel(r'C:\\\\Users\\\\HP\\\\Desktop\\\\final project12.xlsx')"
   ]
  },
  {
   "cell_type": "code",
   "execution_count": 3,
   "id": "5226cc7c-e99e-4ddb-b838-9cb2ce4b9c34",
   "metadata": {},
   "outputs": [],
   "source": [
    "# Drop rows with missing target values\n",
    "data.dropna(subset=['Job status'], inplace=True)\n"
   ]
  },
  {
   "cell_type": "markdown",
   "id": "9fe25a92-bdb9-4cde-825d-9ab7c6724683",
   "metadata": {},
   "source": [
    "Define Features and Target\n",
    "Separate the features (X) and the target variable (y)."
   ]
  },
  {
   "cell_type": "code",
   "execution_count": 4,
   "id": "f7414a4d-864f-4e0c-9dc3-00eb26da746c",
   "metadata": {},
   "outputs": [],
   "source": [
    "# Define features and target\n",
    "X = data.drop(columns=['Job status', 'No'])\n",
    "y = data['Job status']\n"
   ]
  },
  {
   "cell_type": "code",
   "execution_count": 5,
   "id": "122bb266-0096-49e0-9850-223863f2ee8f",
   "metadata": {},
   "outputs": [],
   "source": [
    "# Encode target variable\n",
    "label_encoder = LabelEncoder()\n",
    "y_encoded = label_encoder.fit_transform(y)\n",
    "\n"
   ]
  },
  {
   "cell_type": "markdown",
   "id": "4f5d5caf-a9fb-437a-bd35-31e641e1a93b",
   "metadata": {},
   "source": [
    "Define Categorical and Numerical Columns\n",
    "Specify which columns are categorical and which are numerical"
   ]
  },
  {
   "cell_type": "code",
   "execution_count": 6,
   "id": "20cc3232-4a9b-48b8-9cef-532d5b22eed2",
   "metadata": {},
   "outputs": [],
   "source": [
    "# Define categorical and numerical columns\n",
    "categorical_cols = ['Sex', 'Label', 'Status', 'College', 'Fild of Study']\n",
    "numerical_cols = ['Salary', 'age', 'year_of_service']"
   ]
  },
  {
   "cell_type": "markdown",
   "id": "2dfca10c-42db-4c1e-8c6c-160675a39457",
   "metadata": {},
   "source": [
    "Preprocessing Pipelines\n",
    "Define how to preprocess numerical and categorical data: impute missing values and one-hot encode categorical features."
   ]
  },
  {
   "cell_type": "code",
   "execution_count": 7,
   "id": "663eedf1-31d2-4948-97f4-9ca2aa1c3afd",
   "metadata": {},
   "outputs": [],
   "source": [
    "# Preprocessing for numerical data: impute missing values with mean\n",
    "numerical_transformer = SimpleImputer(strategy='mean')"
   ]
  },
  {
   "cell_type": "code",
   "execution_count": 8,
   "id": "110267de-7a7f-415d-baa2-3b0ab18bf949",
   "metadata": {},
   "outputs": [],
   "source": [
    "# Preprocessing for categorical data: impute missing values and one-hot encode\n",
    "categorical_transformer = Pipeline(steps=[\n",
    "    ('imputer', SimpleImputer(strategy='most_frequent')),\n",
    "    ('onehot', OneHotEncoder(handle_unknown='ignore'))\n",
    "])"
   ]
  },
  {
   "cell_type": "code",
   "execution_count": 9,
   "id": "2c6eb019-fdd8-4867-b739-a9d7d9b2e444",
   "metadata": {},
   "outputs": [],
   "source": [
    "# Combine preprocessing steps\n",
    "preprocessor = ColumnTransformer(\n",
    "    transformers=[\n",
    "        ('num', numerical_transformer, numerical_cols),\n",
    "        ('cat', categorical_transformer, categorical_cols)\n",
    "    ])"
   ]
  },
  {
   "cell_type": "markdown",
   "id": "7f496231-bee4-4642-9059-dbc822071657",
   "metadata": {},
   "source": [
    "Convert Sparse Matrix to Dense\n",
    "Define a function to convert sparse matrices to dense format, which is necessary for certain algorithms"
   ]
  },
  {
   "cell_type": "code",
   "execution_count": 10,
   "id": "22e00191-e5fb-41e0-8a80-9024447cc598",
   "metadata": {},
   "outputs": [],
   "source": [
    "# Function to convert sparse matrix to dense\n",
    "def to_dense(X):\n",
    "    return X.toarray() if hasattr(X, \"toarray\") else X\n",
    "\n",
    "dense_transformer = FunctionTransformer(to_dense)"
   ]
  },
  {
   "cell_type": "markdown",
   "id": "0c1dd7a1-499b-477b-86ef-389f45f07ff3",
   "metadata": {},
   "source": [
    "Split the dataset into training and testing sets"
   ]
  },
  {
   "cell_type": "code",
   "execution_count": 11,
   "id": "b1268b1e-55b5-454d-8a68-18e2a07e4aa9",
   "metadata": {},
   "outputs": [],
   "source": [
    "# Split the data\n",
    "X_train, X_test, y_train, y_test = train_test_split(X, y, test_size=0.2, random_state=42)\n"
   ]
  },
  {
   "cell_type": "markdown",
   "id": "cc24d6e0-829c-4939-a594-85bfeeeb72db",
   "metadata": {},
   "source": [
    "Define a dictionary of models to evaluate. Naive Bayes requires a pipeline with preprocessing and conversion to dense format"
   ]
  },
  {
   "cell_type": "code",
   "execution_count": 12,
   "id": "abce1c32-b6a9-4755-822e-12a10b19d394",
   "metadata": {},
   "outputs": [],
   "source": [
    "# Define models to evaluate\n",
    "models = {\n",
    "    'Logistic Regression': LogisticRegression(max_iter=10000, random_state=42),\n",
    "    'Decision Tree': DecisionTreeClassifier(random_state=42),\n",
    "    'Random Forest': RandomForestClassifier(random_state=42),\n",
    "    'Naive Bayes': Pipeline(steps=[\n",
    "        ('preprocessor', preprocessor),\n",
    "        ('to_dense', dense_transformer),\n",
    "        ('classifier', GaussianNB())\n",
    "    ]),\n",
    "    'Support Vector Machine': SVC(random_state=42),\n",
    "    'K-Nearest Neighbors': KNeighborsClassifier()\n",
    "}"
   ]
  },
  {
   "cell_type": "markdown",
   "id": "e73133fb-9c6f-4e92-931a-fdb9075a48d7",
   "metadata": {},
   "source": [
    "Evaluate Each Model\n",
    "Loop through each model, create a pipeline, train the model, and print the classification report"
   ]
  },
  {
   "cell_type": "code",
   "execution_count": 13,
   "id": "833f7cad-9bbe-4872-8568-baa1d839a222",
   "metadata": {},
   "outputs": [
    {
     "name": "stdout",
     "output_type": "stream",
     "text": [
      "Model: Logistic Regression\n",
      "                precision    recall  f1-score   support\n",
      "\n",
      "not terminated       0.91      0.95      0.93       607\n",
      "    terminated       0.87      0.78      0.82       263\n",
      "\n",
      "      accuracy                           0.90       870\n",
      "     macro avg       0.89      0.87      0.88       870\n",
      "  weighted avg       0.90      0.90      0.90       870\n",
      "\n",
      "============================================================\n",
      "Model: Decision Tree\n",
      "                precision    recall  f1-score   support\n",
      "\n",
      "not terminated       0.96      0.95      0.96       607\n",
      "    terminated       0.89      0.90      0.90       263\n",
      "\n",
      "      accuracy                           0.94       870\n",
      "     macro avg       0.92      0.93      0.93       870\n",
      "  weighted avg       0.94      0.94      0.94       870\n",
      "\n",
      "============================================================\n",
      "Model: Random Forest\n",
      "                precision    recall  f1-score   support\n",
      "\n",
      "not terminated       0.96      0.96      0.96       607\n",
      "    terminated       0.91      0.90      0.90       263\n",
      "\n",
      "      accuracy                           0.94       870\n",
      "     macro avg       0.93      0.93      0.93       870\n",
      "  weighted avg       0.94      0.94      0.94       870\n",
      "\n",
      "============================================================\n",
      "Model: Naive Bayes\n",
      "                precision    recall  f1-score   support\n",
      "\n",
      "not terminated       0.90      0.89      0.89       607\n",
      "    terminated       0.74      0.76      0.75       263\n",
      "\n",
      "      accuracy                           0.85       870\n",
      "     macro avg       0.82      0.82      0.82       870\n",
      "  weighted avg       0.85      0.85      0.85       870\n",
      "\n",
      "============================================================\n",
      "Model: Support Vector Machine\n",
      "                precision    recall  f1-score   support\n",
      "\n",
      "not terminated       0.75      0.85      0.80       607\n",
      "    terminated       0.50      0.36      0.42       263\n",
      "\n",
      "      accuracy                           0.70       870\n",
      "     macro avg       0.63      0.60      0.61       870\n",
      "  weighted avg       0.68      0.70      0.68       870\n",
      "\n",
      "============================================================\n",
      "Model: K-Nearest Neighbors\n",
      "                precision    recall  f1-score   support\n",
      "\n",
      "not terminated       0.95      0.98      0.96       607\n",
      "    terminated       0.95      0.88      0.91       263\n",
      "\n",
      "      accuracy                           0.95       870\n",
      "     macro avg       0.95      0.93      0.94       870\n",
      "  weighted avg       0.95      0.95      0.95       870\n",
      "\n",
      "============================================================\n"
     ]
    }
   ],
   "source": [
    "# Evaluate each model\n",
    "for name, model in models.items():\n",
    "    if name == 'Naive Bayes':\n",
    "        clf = model\n",
    "    else:\n",
    "        clf = Pipeline(steps=[\n",
    "            ('preprocessor', preprocessor),\n",
    "            ('classifier', model)\n",
    "        ])\n",
    "    \n",
    "    # Train the model\n",
    "    clf.fit(X_train, y_train)\n",
    "    \n",
    "    # Predict and evaluate the model\n",
    "    y_pred = clf.predict(X_test)\n",
    "    print(f\"Model: {name}\")\n",
    "    print(classification_report(y_test, y_pred))\n",
    "    print(\"=\"*60)"
   ]
  },
  {
   "cell_type": "code",
   "execution_count": 14,
   "id": "131f49ee-24d9-4164-81a0-2e77f889df13",
   "metadata": {},
   "outputs": [
    {
     "data": {
      "image/png": "[encoded data removed]",
      "text/plain": [
       "<Figure size 1000x800 with 1 Axes>"
      ]
     },
     "metadata": {},
     "output_type": "display_data"
    },
    {
     "name": "stdout",
     "output_type": "stream",
     "text": [
      "Logistic Regression: ROC AUC = 0.95\n",
      "Decision Tree: ROC AUC = 0.93\n",
      "Random Forest: ROC AUC = 0.97\n",
      "Naive Bayes: ROC AUC = 0.91\n",
      "Support Vector Machine: ROC AUC = 0.72\n",
      "K-Nearest Neighbors: ROC AUC = 0.95\n"
     ]
    }
   ],
   "source": [
    "\n",
    "# Define categorical and numerical columns\n",
    "categorical_cols = ['Sex', 'Label', 'Status', 'College', 'Fild of Study']\n",
    "numerical_cols = ['Salary', 'age', 'year_of_service']\n",
    "\n",
    "# Preprocessing for numerical data: impute missing values with mean\n",
    "numerical_transformer = SimpleImputer(strategy='mean')\n",
    "\n",
    "# Preprocessing for categorical data: impute missing values and one-hot encode\n",
    "categorical_transformer = Pipeline(steps=[\n",
    "    ('imputer', SimpleImputer(strategy='most_frequent')),\n",
    "    ('onehot', OneHotEncoder(handle_unknown='ignore'))\n",
    "])\n",
    "\n",
    "# Combine preprocessing steps\n",
    "preprocessor = ColumnTransformer(\n",
    "    transformers=[\n",
    "        ('num', numerical_transformer, numerical_cols),\n",
    "        ('cat', categorical_transformer, categorical_cols)\n",
    "    ])\n",
    "\n",
    "# Function to convert sparse matrix to dense\n",
    "def to_dense(X):\n",
    "    return X.toarray() if hasattr(X, \"toarray\") else X\n",
    "\n",
    "dense_transformer = FunctionTransformer(to_dense)\n",
    "\n",
    "# Split the data\n",
    "X_train, X_test, y_train, y_test = train_test_split(X, y_encoded, test_size=0.2, random_state=42)\n",
    "\n",
    "# Define models to evaluate\n",
    "models = {\n",
    "    'Logistic Regression': LogisticRegression(max_iter=10000, random_state=42),\n",
    "    'Decision Tree': DecisionTreeClassifier(random_state=42),\n",
    "    'Random Forest': RandomForestClassifier(random_state=42),\n",
    "    'Naive Bayes': Pipeline(steps=[\n",
    "        ('preprocessor', preprocessor),\n",
    "        ('to_dense', dense_transformer),\n",
    "        ('classifier', GaussianNB())\n",
    "    ]),\n",
    "    'Support Vector Machine': SVC(random_state=42, probability=True),\n",
    "    'K-Nearest Neighbors': KNeighborsClassifier()\n",
    "}\n",
    "\n",
    "# Initialize a dictionary to store ROC AUC scores\n",
    "roc_auc_scores = {}\n",
    "\n",
    "plt.figure(figsize=(10, 8))\n",
    "\n",
    "# Evaluate each model\n",
    "for name, model in models.items():\n",
    "    if name == 'Naive Bayes':\n",
    "        clf = model\n",
    "    else:\n",
    "        clf = Pipeline(steps=[\n",
    "            ('preprocessor', preprocessor),\n",
    "            ('classifier', model)\n",
    "        ])\n",
    "    \n",
    "    # Train the model\n",
    "    clf.fit(X_train, y_train)\n",
    "    \n",
    "    # Predict probabilities\n",
    "    y_prob = clf.predict_proba(X_test)[:, 1] if hasattr(clf, 'predict_proba') else clf.decision_function(X_test)\n",
    "    \n",
    "    # Compute ROC curve and ROC AUC score\n",
    "    fpr, tpr, _ = roc_curve(y_test, y_prob)\n",
    "    roc_auc = roc_auc_score(y_test, y_prob)\n",
    "    roc_auc_scores[name] = roc_auc\n",
    "    \n",
    "    # Plot the ROC curve\n",
    "    plt.plot(fpr, tpr, label=f'{name} (AUC = {roc_auc:.2f})')\n",
    "\n",
    "# Plot the diagonal line for random guessing\n",
    "plt.plot([0, 1], [0, 1], color='navy', linestyle='--')\n",
    "\n",
    "# Customize the plot\n",
    "plt.xlabel('False Positive Rate')\n",
    "plt.ylabel('True Positive Rate')\n",
    "plt.title('ROC Curves for Different Models')\n",
    "plt.legend(loc='lower right')\n",
    "plt.grid()\n",
    "\n",
    "# Show the plot\n",
    "plt.show()\n",
    "\n",
    "# Print ROC AUC scores for comparison\n",
    "for model_name, auc_score in roc_auc_scores.items():\n",
    "    print(f\"{model_name}: ROC AUC = {auc_score:.2f}\")"
   ]
  },
  {
   "cell_type": "markdown",
   "id": "31fd45c0-8200-440f-ae68-80e71c3968f0",
   "metadata": {},
   "source": [
    "Hyperparameter tuning for Decision Tree\n",
    "Set up and execute a grid search for the Decision Tree, print the best parameters and cross-validation accuracy, evaluate the tuned model, and save it."
   ]
  },
  {
   "cell_type": "code",
   "execution_count": 15,
   "id": "88daafe6-5479-4895-a847-39e1901983e0",
   "metadata": {},
   "outputs": [
    {
     "name": "stdout",
     "output_type": "stream",
     "text": [
      "Fitting 5 folds for each of 864 candidates, totalling 4320 fits\n",
      "Best parameters for Decision Tree:  {'classifier__criterion': 'gini', 'classifier__max_depth': 20, 'classifier__max_features': None, 'classifier__min_samples_leaf': 1, 'classifier__min_samples_split': 10, 'classifier__splitter': 'best'}\n",
      "Best cross-validation accuracy for Decision Tree: 0.94\n",
      "Tuned Decision Tree Model:\n",
      "              precision    recall  f1-score   support\n",
      "\n",
      "           0       0.96      0.96      0.96       607\n",
      "           1       0.90      0.90      0.90       263\n",
      "\n",
      "    accuracy                           0.94       870\n",
      "   macro avg       0.93      0.93      0.93       870\n",
      "weighted avg       0.94      0.94      0.94       870\n",
      "\n",
      "============================================================\n"
     ]
    }
   ],
   "source": [
    "# Hyperparameter tuning for Decision Tree\n",
    "dt = DecisionTreeClassifier(random_state=42)\n",
    "pipeline_dt = Pipeline(steps=[('preprocessor', preprocessor), ('classifier', dt)])\n",
    "\n",
    "param_grid_dt = {\n",
    "    'classifier__criterion': ['gini', 'entropy'],\n",
    "    'classifier__splitter': ['best', 'random'],\n",
    "    'classifier__max_depth': [None, 10, 20, 30, 40, 50],\n",
    "    'classifier__min_samples_split': [2, 5, 10],\n",
    "    'classifier__min_samples_leaf': [1, 2, 4],\n",
    "    'classifier__max_features': [None, 'auto', 'sqrt', 'log2']\n",
    "}\n",
    "\n",
    "grid_search_dt = GridSearchCV(estimator=pipeline_dt, param_grid=param_grid_dt, \n",
    "                              cv=5, n_jobs=-1, verbose=2, scoring='accuracy')\n",
    "\n",
    "grid_search_dt.fit(X_train, y_train)\n",
    "\n",
    "best_params_dt = grid_search_dt.best_params_\n",
    "best_score_dt = grid_search_dt.best_score_\n",
    "\n",
    "print(\"Best parameters for Decision Tree: \", best_params_dt)\n",
    "print(\"Best cross-validation accuracy for Decision Tree: {:.2f}\".format(best_score_dt))\n",
    "\n",
    "best_dt = grid_search_dt.best_estimator_\n",
    "\n",
    "y_pred_dt = best_dt.predict(X_test)\n",
    "print(\"Tuned Decision Tree Model:\")\n",
    "print(classification_report(y_test, y_pred_dt))\n",
    "print(\"=\"*60)"
   ]
  },
  {
   "cell_type": "markdown",
   "id": "ad6115bb-8a16-4f01-9e64-d5b53d6079bb",
   "metadata": {},
   "source": [
    "save the tuned decision tree model"
   ]
  },
  {
   "cell_type": "code",
   "execution_count": 16,
   "id": "f3c38b80-63ad-4208-98df-fa02faa159c9",
   "metadata": {},
   "outputs": [
    {
     "data": {
      "text/plain": [
       "['best_decision_tree_model.pkl']"
      ]
     },
     "execution_count": 16,
     "metadata": {},
     "output_type": "execute_result"
    }
   ],
   "source": [
    "joblib.dump(best_dt, 'best_decision_tree_model.pkl')"
   ]
  },
  {
   "cell_type": "markdown",
   "id": "696fe92a-e4f1-4b59-8ee0-87c6a281bdf8",
   "metadata": {},
   "source": [
    " Hyperparameter tuning for KNN by GridSearch"
   ]
  },
  {
   "cell_type": "code",
   "execution_count": 17,
   "id": "0a9e8af8-577f-4050-be2f-527b6a4b82e3",
   "metadata": {},
   "outputs": [
    {
     "name": "stdout",
     "output_type": "stream",
     "text": [
      "Fitting 5 folds for each of 320 candidates, totalling 1600 fits\n",
      "Best parameters for KNN:  {'classifier__algorithm': 'auto', 'classifier__leaf_size': 20, 'classifier__n_neighbors': 5, 'classifier__p': 1, 'classifier__weights': 'distance'}\n",
      "Best cross-validation accuracy for KNN: 0.94\n",
      "Tuned KNN Model:\n",
      "              precision    recall  f1-score   support\n",
      "\n",
      "           0       0.95      0.97      0.96       607\n",
      "           1       0.93      0.89      0.91       263\n",
      "\n",
      "    accuracy                           0.95       870\n",
      "   macro avg       0.94      0.93      0.94       870\n",
      "weighted avg       0.95      0.95      0.95       870\n",
      "\n",
      "============================================================\n"
     ]
    }
   ],
   "source": [
    "\n",
    "knn = KNeighborsClassifier()\n",
    "pipeline_knn = Pipeline(steps=[('preprocessor', preprocessor), ('classifier', knn)])\n",
    "\n",
    "param_grid_knn = {\n",
    "    'classifier__n_neighbors': [3, 5, 7, 9, 11],\n",
    "    'classifier__weights': ['uniform', 'distance'],\n",
    "    'classifier__algorithm': ['auto', 'ball_tree', 'kd_tree', 'brute'],\n",
    "    'classifier__leaf_size': [20, 30, 40, 50],\n",
    "    'classifier__p': [1, 2]  # 1 for Manhattan distance, 2 for Euclidean distance\n",
    "}\n",
    "\n",
    "grid_search_knn = GridSearchCV(estimator=pipeline_knn, param_grid=param_grid_knn, \n",
    "                               cv=5, n_jobs=-1, verbose=2, scoring='accuracy')\n",
    "\n",
    "grid_search_knn.fit(X_train, y_train)\n",
    "\n",
    "best_params_knn = grid_search_knn.best_params_\n",
    "best_score_knn = grid_search_knn.best_score_\n",
    "\n",
    "print(\"Best parameters for KNN: \", best_params_knn)\n",
    "print(\"Best cross-validation accuracy for KNN: {:.2f}\".format(best_score_knn))\n",
    "\n",
    "best_knn = grid_search_knn.best_estimator_\n",
    "\n",
    "y_pred_knn = best_knn.predict(X_test)\n",
    "print(\"Tuned KNN Model:\")\n",
    "print(classification_report(y_test, y_pred_knn))\n",
    "print(\"=\"*60)\n"
   ]
  },
  {
   "cell_type": "markdown",
   "id": "9945ecd1-c396-46ff-88fd-80d6020c358a",
   "metadata": {},
   "source": [
    "save the tuned model"
   ]
  },
  {
   "cell_type": "code",
   "execution_count": 18,
   "id": "a5e2fa5b-3674-4273-b578-039b20cb3e8d",
   "metadata": {},
   "outputs": [
    {
     "data": {
      "text/plain": [
       "['best_knn_model.pkl']"
      ]
     },
     "execution_count": 18,
     "metadata": {},
     "output_type": "execute_result"
    }
   ],
   "source": [
    "joblib.dump(best_knn, 'best_knn_model.pkl')"
   ]
  },
  {
   "cell_type": "markdown",
   "id": "c4322a77-66ff-43d7-9326-50a6c2cb8c56",
   "metadata": {},
   "source": [
    "Hyperparameter tuning for KNN with RandomizedSearchCV"
   ]
  },
  {
   "cell_type": "code",
   "execution_count": 19,
   "id": "bcf02925-42dd-4f05-af70-671bf3b11f7c",
   "metadata": {},
   "outputs": [
    {
     "name": "stdout",
     "output_type": "stream",
     "text": [
      "Fitting 5 folds for each of 100 candidates, totalling 500 fits\n"
     ]
    },
    {
     "name": "stderr",
     "output_type": "stream",
     "text": [
      "C:\\ProgramData\\anaconda3\\Lib\\site-packages\\sklearn\\neighbors\\_base.py:557: UserWarning: cannot use tree with sparse input: using brute force\n",
      "  warnings.warn(\"cannot use tree with sparse input: using brute force\")\n"
     ]
    },
    {
     "name": "stdout",
     "output_type": "stream",
     "text": [
      "Best parameters for KNN:  {'classifier__algorithm': 'kd_tree', 'classifier__leaf_size': 38, 'classifier__n_neighbors': 4, 'classifier__p': 1, 'classifier__weights': 'distance'}\n",
      "Best cross-validation accuracy for KNN: 0.94\n",
      "Tuned KNN Model:\n",
      "              precision    recall  f1-score   support\n",
      "\n",
      "           0       0.96      0.97      0.96       607\n",
      "           1       0.94      0.90      0.92       263\n",
      "\n",
      "    accuracy                           0.95       870\n",
      "   macro avg       0.95      0.94      0.94       870\n",
      "weighted avg       0.95      0.95      0.95       870\n",
      "\n",
      "============================================================\n"
     ]
    }
   ],
   "source": [
    "\n",
    "knn = KNeighborsClassifier()\n",
    "pipeline_knn = Pipeline(steps=[('preprocessor', preprocessor), ('classifier', knn)])\n",
    "\n",
    "param_dist_knn = {\n",
    "    'classifier__n_neighbors': randint(1, 30),\n",
    "    'classifier__weights': ['uniform', 'distance'],\n",
    "    'classifier__algorithm': ['auto', 'ball_tree', 'kd_tree', 'brute'],\n",
    "    'classifier__leaf_size': randint(10, 100),\n",
    "    'classifier__p': randint(1, 3)  # 1 for Manhattan distance, 2 for Euclidean distance\n",
    "}\n",
    "\n",
    "random_search_knn = RandomizedSearchCV(estimator=pipeline_knn, param_distributions=param_dist_knn, \n",
    "                                       n_iter=100, cv=5, n_jobs=-1, verbose=2, scoring='accuracy', random_state=42)\n",
    "\n",
    "random_search_knn.fit(X_train, y_train)\n",
    "\n",
    "best_params_knn = random_search_knn.best_params_\n",
    "best_score_knn = random_search_knn.best_score_\n",
    "\n",
    "print(\"Best parameters for KNN: \", best_params_knn)\n",
    "print(\"Best cross-validation accuracy for KNN: {:.2f}\".format(best_score_knn))\n",
    "\n",
    "best_knn = random_search_knn.best_estimator_\n",
    "\n",
    "y_pred_knn = best_knn.predict(X_test)\n",
    "print(\"Tuned KNN Model:\")\n",
    "print(classification_report(y_test, y_pred_knn))\n",
    "print(\"=\"*60)\n",
    "\n"
   ]
  },
  {
   "cell_type": "markdown",
   "id": "424f1673-deb3-4f90-b025-18d88e2ab7f7",
   "metadata": {},
   "source": [
    "Save the tuned KNN model"
   ]
  },
  {
   "cell_type": "code",
   "execution_count": 20,
   "id": "e8a69b3a-a96d-4e53-a5b9-f70a2a208b13",
   "metadata": {},
   "outputs": [
    {
     "data": {
      "text/plain": [
       "['best_knn_model2.pkl']"
      ]
     },
     "execution_count": 20,
     "metadata": {},
     "output_type": "execute_result"
    }
   ],
   "source": [
    "\n",
    "joblib.dump(best_knn, 'best_knn_model2.pkl')"
   ]
  },
  {
   "cell_type": "code",
   "execution_count": 21,
   "id": "b6a2984c-3c8e-4b8b-a366-c9a550dbf932",
   "metadata": {},
   "outputs": [],
   "source": [
    "\n",
    "# Load the KNN model\n",
    "loaded_model = joblib.load('best_knn_model2.pkl')\n",
    "\n",
    "\n",
    "\n",
    "\n",
    "\n"
   ]
  },
  {
   "cell_type": "code",
   "execution_count": 22,
   "id": "fc90fdf9-0dee-4250-98b0-a8673071118f",
   "metadata": {},
   "outputs": [],
   "source": [
    "# Read data from the Excel sheet (replace 'your_excel_file.xlsx' with the actual file path)\n",
    "df = pd.read_excel(r'C:\\Users\\HP\\Desktop\\hr merged not cleaned\\to be predicted.xlsx')"
   ]
  },
  {
   "cell_type": "code",
   "execution_count": 23,
   "id": "89a510e5-fac1-4bcc-aaff-1724a95f1c90",
   "metadata": {},
   "outputs": [],
   "source": [
    "# Predict job status\n",
    "df['job status'] = loaded_model.predict(df[['Sex', 'Label', 'Status', 'College', 'Fild of Study','Salary', 'age', 'year_of_service']])\n"
   ]
  },
  {
   "cell_type": "code",
   "execution_count": 24,
   "id": "37087f1b-62a5-424b-af9d-28ec586852b1",
   "metadata": {},
   "outputs": [],
   "source": [
    "# Map predictions to human-readable labels\n",
    "df['job status'] = df['job status'].map({1: 'Terminated', 0: 'Not Terminated'})\n",
    "\n"
   ]
  },
  {
   "cell_type": "code",
   "execution_count": 26,
   "id": "d31bef6b-1e9e-4e49-a34f-5690c73bb491",
   "metadata": {},
   "outputs": [
    {
     "name": "stdout",
     "output_type": "stream",
     "text": [
      "Predictions saved to 'predicted_jobs.xlsx'\n"
     ]
    }
   ],
   "source": [
    "#Save to new sheet\n",
    "df.to_excel('C:/Users/HP/Desktop/new/new_data_with_predictions.xlsx', index=True)\n",
    "\n",
    "print(\"Predictions saved to 'predicted_jobs.xlsx'\")"
   ]
  },
  {
   "cell_type": "code",
   "execution_count": null,
   "id": "b689a32b-5c40-418a-b115-39590d2c14af",
   "metadata": {},
   "outputs": [],
   "source": []
  }
 ],
 "metadata": {
  "kernelspec": {
   "display_name": "Python 3 (ipykernel)",
   "language": "python",
   "name": "python3"
  },
  "language_info": {
   "codemirror_mode": {
    "name": "ipython",
    "version": 3
   },
   "file_extension": ".py",
   "mimetype": "text/x-python",
   "name": "python",
   "nbconvert_exporter": "python",
   "pygments_lexer": "ipython3",
   "version": "3.11.7"
  }
 },
 "nbformat": 4,
 "nbformat_minor": 5
}
